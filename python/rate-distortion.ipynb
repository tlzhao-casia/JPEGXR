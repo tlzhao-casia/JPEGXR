{
 "cells": [
  {
   "cell_type": "code",
   "execution_count": 1,
   "metadata": {},
   "outputs": [],
   "source": [
    "import numpy as np\n",
    "import cv2\n",
    "import matplotlib.pyplot as plt\n",
    "\n",
    "import os"
   ]
  },
  {
   "cell_type": "code",
   "execution_count": 2,
   "metadata": {},
   "outputs": [
    {
     "name": "stderr",
     "output_type": "stream",
     "text": [
      "100%|██████████| 100/100 [00:01<00:00, 76.76it/s]\n"
     ]
    }
   ],
   "source": [
    "imgfname = '../figure/camera.bmp'\n",
    "\n",
    "qualities = np.linspace(0.05, 1, 100)\n",
    "\n",
    "# 将图片按照不同的quality参数进行压缩并解码，得到恢复后的图片\n",
    "import tqdm\n",
    "for q in tqdm.tqdm(qualities):\n",
    "    cmd = f'../build/JxrEncApp -i {imgfname} ' + \\\n",
    "          f'-o ../figure/camera.{q}.jxr ' + \\\n",
    "          f'-c 0 ' + \\\n",
    "          f'-q {q} ' + \\\n",
    "          f'-d 1' # YUV 420\n",
    "\n",
    "    os.system(cmd)\n",
    "\n",
    "    cmd = f'../build/JxrDecApp -i ../figure/camera.{q}.jxr ' + \\\n",
    "          f'-o ../figure/camera.{q}.bmp ' + \\\n",
    "          f'-c 0'\n",
    "\n",
    "    os.system(cmd)"
   ]
  },
  {
   "cell_type": "code",
   "execution_count": 3,
   "metadata": {},
   "outputs": [
    {
     "name": "stderr",
     "output_type": "stream",
     "text": [
      "100%|██████████| 100/100 [00:00<00:00, 1392.62it/s]\n"
     ]
    }
   ],
   "source": [
    "# 比较文件大小，计算PSNR\n",
    "import utils\n",
    "import cv2\n",
    "\n",
    "fsizes = []\n",
    "psnrs = []\n",
    "\n",
    "for q in tqdm.tqdm(qualities):\n",
    "    ori_img = '../figure/camera.bmp'\n",
    "    jxr_img = f'../figure/camera.{q}.jxr'\n",
    "    dec_img = f'../figure/camera.{q}.bmp'\n",
    "\n",
    "    fsizes.append(\n",
    "        os.stat(jxr_img).st_size\n",
    "    )\n",
    "    \n",
    "    img1 = cv2.imread(ori_img)\n",
    "    img2 = cv2.imread(dec_img)\n",
    "\n",
    "    psnrs.append(\n",
    "        utils.psnr(img1, img2)\n",
    "    )\n",
    "\n",
    "ori_fsize = os.stat(\n",
    "    '../figure/camera.bmp'\n",
    ").st_size\n",
    "\n",
    "fsizes = np.array(fsizes)\n",
    "psnrs = np.array(psnrs)"
   ]
  },
  {
   "cell_type": "code",
   "execution_count": 8,
   "metadata": {},
   "outputs": [
    {
     "data": {
      "image/png": "[encoded data removed]",
      "text/plain": [
       "<Figure size 432x288 with 1 Axes>"
      ]
     },
     "metadata": {
      "needs_background": "light"
     },
     "output_type": "display_data"
    }
   ],
   "source": [
    "# 绘制 quality-psnr\n",
    "plt.plot(qualities[:-1], psnrs[:-1], lw = 2, color = 'green')\n",
    "plt.scatter(qualities[:-1][::5], psnrs[:-1][::5], s = 64, color = 'green')\n",
    "plt.grid('on')\n",
    "plt.xlabel('Quality')\n",
    "plt.ylabel('PSNR')\n",
    "\n",
    "plt.show()"
   ]
  },
  {
   "cell_type": "code",
   "execution_count": null,
   "metadata": {},
   "outputs": [],
   "source": [
    "# 绘制压缩比-PSNR\n",
    "plt.plot(ori_fsize / fsizes[:-1], psnrs[:-1], lw = 2, color = 'green')\n",
    "plt.scatter(ori_fsize / fsizes[:-1][::5], psnrs[:-1][::5], s = 64, color = 'green')\n",
    "plt.grid('on')\n",
    "plt.xlabel('Compression rate')\n",
    "plt.ylabel('PSNR')\n",
    "\n",
    "plt.show()"
   ]
  }
 ],
 "metadata": {
  "kernelspec": {
   "display_name": "base",
   "language": "python",
   "name": "python3"
  },
  "language_info": {
   "codemirror_mode": {
    "name": "ipython",
    "version": 3
   },
   "file_extension": ".py",
   "mimetype": "text/x-python",
   "name": "python",
   "nbconvert_exporter": "python",
   "pygments_lexer": "ipython3",
   "version": "3.9.12"
  },
  "orig_nbformat": 4,
  "vscode": {
   "interpreter": {
    "hash": "e98065b037ae9cae4510349411aeb60e329362b4590f60d83c82cd71e5acff72"
   }
  }
 },
 "nbformat": 4,
 "nbformat_minor": 2
}
